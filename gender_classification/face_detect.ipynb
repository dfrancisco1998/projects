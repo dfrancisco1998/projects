{
  "nbformat": 4,
  "nbformat_minor": 0,
  "metadata": {
    "colab": {
      "name": "face_detect.ipynb",
      "provenance": [],
      "collapsed_sections": []
    },
    "kernelspec": {
      "name": "python3",
      "display_name": "Python 3"
    }
  },
  "cells": [
    {
      "cell_type": "code",
      "metadata": {
        "id": "DAVbAafRwX3m",
        "colab_type": "code",
        "colab": {}
      },
      "source": [
        "from google.colab import drive\n",
        "drive.mount('/content/drive')\n",
        "\n",
        "data_dir = '/content/drive/My Drive/Computer_Vision_final/'"
      ],
      "execution_count": 0,
      "outputs": []
    },
    {
      "cell_type": "code",
      "metadata": {
        "id": "sZaQ3F6_5QTa",
        "colab_type": "code",
        "colab": {}
      },
      "source": [
        "import os\n",
        "import cv2\n",
        "from google.colab.patches import cv2_imshow\n",
        "from matplotlib import pyplot as plt\n",
        "import numpy as np\n",
        "from google.colab.patches import cv2_imshow\n",
        "\n"
      ],
      "execution_count": 0,
      "outputs": []
    },
    {
      "cell_type": "code",
      "metadata": {
        "id": "WL8HXUWcUjNc",
        "colab_type": "code",
        "colab": {}
      },
      "source": [
        "# path = data_dir + \"manwomandetection/train/\"\n",
        "# manpath = path + \"man\"\n",
        "# womanpath = path + \"woman\"\n",
        "# for filename in os.listdir(womanpath):\n",
        "#   os.rename(womanpath + filename, \"w\"+ womanpath + filename)\n",
        "# for filename in os.listdir(manpath):\n",
        "#   os.rename(manpath + filename, \"m\"+ manpath + filename)"
      ],
      "execution_count": 0,
      "outputs": []
    },
    {
      "cell_type": "code",
      "metadata": {
        "id": "s6NgdOTh3luY",
        "colab_type": "code",
        "colab": {}
      },
      "source": [
        "\n",
        "templates = []\n",
        "local_download_path = data_dir + \"templates/\"\n",
        "for filename in os.listdir(local_download_path):\n",
        "    if filename.endswith(\"jpg\"): \n",
        "        # Your code comes here such as \n",
        "        #print(filename)\n",
        "        templates.append(filename)\n"
      ],
      "execution_count": 0,
      "outputs": []
    },
    {
      "cell_type": "code",
      "metadata": {
        "id": "-vrbQnJN4Jzm",
        "colab_type": "code",
        "colab": {}
      },
      "source": [
        "images = []\n",
        "local_download_path = data_dir + \"images/\"\n",
        "for filename in os.listdir(local_download_path):\n",
        "    images.append(filename)"
      ],
      "execution_count": 0,
      "outputs": []
    },
    {
      "cell_type": "code",
      "metadata": {
        "id": "hVYYB31SvrUe",
        "colab_type": "code",
        "outputId": "d51b6f25-c3b6-457b-b1a6-1c2589343899",
        "colab": {
          "base_uri": "https://localhost:8080/",
          "height": 54
        }
      },
      "source": [
        "\n",
        "'''\n",
        "face_images = []\n",
        "scales = [(48,48),(64,64),(128,128),(256,256),(512,512),(1024,1024)]\n",
        "for i in images:\n",
        "  scores = []\n",
        "  results = []\n",
        "  sizes = []\n",
        "  im_path = data_dir + \"images/\" + str(i)\n",
        "  face_images.append(str(i))\n",
        "  im = cv2.imread(im_path, cv2.IMREAD_GRAYSCALE)\n",
        "  face_classifier = cv2.CascadeClassifier(data_dir + \"haarcascade_frontalface_default.xml\")\n",
        "  faces = face_classifier.detectMultiScale (im, 1.3, 5)\n",
        "  if faces is ():\n",
        "    pass\n",
        "  else:\n",
        "    face = faces[0]\n",
        "    x = face[0]\n",
        "    y = face[1]\n",
        "    w = face[2]\n",
        "    h = face[3]\n",
        "    roi = im[y:y+h,x:x+w]\n",
        "    file = str(i)\n",
        "    roi = cv2.resize(roi,(128,128))\n",
        "    face_fpath = data_dir + \"faces/\"+file[:-4]+\"_face.jpg\"\n",
        "    cv2.imwrite(face_fpath, roi)\n",
        "    # face_images.append(file[:-4]+\"_face.jpg\")\n",
        "    print(file)\n",
        "\n",
        "for t in templates:\n",
        "    template_path = data_dir + \"templates/\" + str(t)\n",
        "    temp = cv2.imread(template_path, cv2.IMREAD_GRAYSCALE)  \n",
        "    for s in scales: \n",
        "      temp = cv2.resize(temp, s)\n",
        "      k = 3\n",
        "      temp = cv2.GaussianBlur(temp, (k,k), cv2.BORDER_DEFAULT)\n",
        "      blur = cv2.GaussianBlur(im, (9,9), cv2.BORDER_DEFAULT)\n",
        "      k+=2\n",
        "      if temp.shape[0] > blur.shape[0] or temp.shape[1] > blur.shape[1]:\n",
        "        pass\n",
        "      else:\n",
        "        res = cv2.matchTemplate(blur, temp, cv2.TM_CCOEFF_NORMED)\n",
        "        _,score,_,loc = cv2.minMaxLoc(res)\n",
        "        scores.append(score)\n",
        "        results.append(loc)\n",
        "        sizes.append(temp.shape)\n",
        "  ind = np.argmax(scores)\n",
        "  top_left = results[ind]\n",
        "  shift = sizes[ind]\n",
        "  bottom_right = (top_left[0] + shift[0], top_left[1] + shift[1])\n",
        "  file = str(i)\n",
        "  face_im = im\n",
        "  face_im = face_im[top_left[0]:(top_left[0] + 128),top_left[1]:(top_left[1] + 128)]\n",
        "  cv2_imshow(face_im)\n",
        "  cv2.imwrite(data_dir + \"Faces/\"+file[:-4]+\"_face.jpg\",face_im)\n",
        "'''\n",
        "    "
      ],
      "execution_count": 0,
      "outputs": [
        {
          "output_type": "execute_result",
          "data": {
            "text/plain": [
              "'\\nface_images = []\\nscales = [(48,48),(64,64),(128,128),(256,256),(512,512),(1024,1024)]\\nfor i in images:\\n  scores = []\\n  results = []\\n  sizes = []\\n  im_path = data_dir + \"images/\" + str(i)\\n  face_images.append(str(i))\\n  im = cv2.imread(im_path, cv2.IMREAD_GRAYSCALE)\\n  face_classifier = cv2.CascadeClassifier(data_dir + \"haarcascade_frontalface_default.xml\")\\n  faces = face_classifier.detectMultiScale (im, 1.3, 5)\\n  if faces is ():\\n    pass\\n  else:\\n    face = faces[0]\\n    x = face[0]\\n    y = face[1]\\n    w = face[2]\\n    h = face[3]\\n    roi = im[y:y+h,x:x+w]\\n    file = str(i)\\n    roi = cv2.resize(roi,(128,128))\\n    face_fpath = data_dir + \"faces/\"+file[:-4]+\"_face.jpg\"\\n    cv2.imwrite(face_fpath, roi)\\n    # face_images.append(file[:-4]+\"_face.jpg\")\\n    print(file)\\n\\nfor t in templates:\\n    template_path = data_dir + \"templates/\" + str(t)\\n    temp = cv2.imread(template_path, cv2.IMREAD_GRAYSCALE)  \\n    for s in scales: \\n      temp = cv2.resize(temp, s)\\n      k = 3\\n      temp = cv2.GaussianBlur(temp, (k,k), cv2.BORDER_DEFAULT)\\n      blur = cv2.GaussianBlur(im, (9,9), cv2.BORDER_DEFAULT)\\n      k+=2\\n      if temp.shape[0] > blur.shape[0] or temp.shape[1] > blur.shape[1]:\\n        pass\\n      else:\\n        res = cv2.matchTemplate(blur, temp, cv2.TM_CCOEFF_NORMED)\\n        _,score,_,loc = cv2.minMaxLoc(res)\\n        scores.append(score)\\n        results.append(loc)\\n        sizes.append(temp.shape)\\n  ind = np.argmax(scores)\\n  top_left = results[ind]\\n  shift = sizes[ind]\\n  bottom_right = (top_left[0] + shift[0], top_left[1] + shift[1])\\n  file = str(i)\\n  face_im = im\\n  face_im = face_im[top_left[0]:(top_left[0] + 128),top_left[1]:(top_left[1] + 128)]\\n  cv2_imshow(face_im)\\n  cv2.imwrite(data_dir + \"Faces/\"+file[:-4]+\"_face.jpg\",face_im)\\n'"
            ]
          },
          "metadata": {
            "tags": []
          },
          "execution_count": 6
        }
      ]
    },
    {
      "cell_type": "markdown",
      "metadata": {
        "id": "wUKbfzRzgZxN",
        "colab_type": "text"
      },
      "source": [
        ""
      ]
    },
    {
      "cell_type": "code",
      "metadata": {
        "id": "3GkgX53bLf21",
        "colab_type": "code",
        "colab": {}
      },
      "source": [
        "def shape_to_np(shape, dtype='int'):\n",
        "  # initialize the list of (x, y)-coordinates\n",
        "\tcoords = np.zeros((68, 2), dtype=dtype)\n",
        " \n",
        "\t# loop over the 68 facial landmarks and convert them\n",
        "\t# to a 2-tuple of (x, y)-coordinates\n",
        "\tfor i in range(0, 68):\n",
        "\t\tcoords[i] = (shape.part(i).x, shape.part(i).y)\n",
        " \n",
        "\t# return the list of (x, y)-coordinates\n",
        "\treturn coords\n",
        "\n"
      ],
      "execution_count": 0,
      "outputs": []
    },
    {
      "cell_type": "code",
      "metadata": {
        "id": "NsZHNYf8XAzK",
        "colab_type": "code",
        "colab": {}
      },
      "source": [
        "# class rect:\n",
        "#   def __init__(self, x: int, y: int, h: int, w: int):\n",
        "#     self.x = x\n",
        "#     self.y = y\n",
        "#     self.w = w\n",
        "#     self.h = h"
      ],
      "execution_count": 0,
      "outputs": []
    },
    {
      "cell_type": "code",
      "metadata": {
        "id": "zMFyTg6TN24d",
        "colab_type": "code",
        "colab": {}
      },
      "source": [
        "import dlib \n",
        "detector = dlib.get_frontal_face_detector()\n",
        "predictor = dlib.shape_predictor(data_dir + 'shape_predictor_68_face_landmarks.dat')\n",
        "\n",
        "regfile = open(data_dir + \"region points.txt\", \"w+\")\n",
        "\n",
        "for i in images: \n",
        "    if i is None:\n",
        "      continue\n",
        "    im_path = data_dir + \"images/\" + str(i)\n",
        "    print(im_path)\n",
        "    im = cv2.imread(im_path, cv2.IMREAD_GRAYSCALE)\n",
        "    h, w = im.shape\n",
        "    # region_map = np.zeros((h,w))\n",
        "    # print(h,w)\n",
        "    # r = rect(0, 0, h, w)\n",
        "\n",
        "    cv2_imshow(im)\n",
        "\n",
        "    rects = detector(im, 1)\n",
        "    face_objs = []\n",
        "    # region_map = np.zeros((h, w))\n",
        "\n",
        "    for (i, rect) in enumerate(rects):\n",
        "        shape = predictor(im, rect)\n",
        "        shape = shape_to_np(shape)\n",
        "\n",
        "\n",
        "\n",
        "        x = rect.left()\n",
        "        y = rect.top()\n",
        "        w = rect.right() - x\n",
        "        h = rect.bottom() - y\n",
        "\n",
        "        print(\"size of face rectangles:\", h, w)\n",
        "\n",
        "        # region_map = np.zeros((h,w))\n",
        "        region_map = np.zeros((128, 128))\n",
        "\n",
        "        \n",
        "\n",
        "        cv2.rectangle(im, (x, y), (x + w, y + h), (0, 255, 0), 2)\n",
        "\n",
        "        cv2.putText(im, \"Face #{}\".format(i + 1), (x - 10, y - 10),\n",
        "          cv2.FONT_HERSHEY_SIMPLEX, 0.5, (0, 255, 0), 2)\n",
        "        \n",
        "        # for (x,y) in shape:\n",
        "        #     cv2.circle(im, (x,y), 1, (0, 0, 255), -1)\n",
        "             \n",
        "        jaw = shape[0:17]\n",
        "        nose = shape[27:35]\n",
        "        right_eye = shape[36:42]\n",
        "        right_brow = shape[17:22]\n",
        "        left_eye = shape[42:48]\n",
        "        left_brow = shape[22:27]\n",
        "        mouth = shape[48:68]\n",
        "\n",
        "        # f = face(jaw, nose, right_eye, right_brow, left_eye, left_brow, mouth)\n",
        "\n",
        "        # face_objs.append(f)\n",
        "\n",
        "        regions = [jaw, nose, right_eye, right_brow, left_eye, left_brow, mouth]  \n",
        "\n",
        "        # rgb = [, 25, 50]\n",
        "\n",
        "        # h, w = im.shape\n",
        "        \n",
        "\n",
        "        for region in regions:\n",
        "          for (x,y) in region:\n",
        "            cv2.circle(im, (x,y), 3, 0, -1)\n",
        "            x2 = x - rect.left()\n",
        "            y2 = y - rect.top()\n",
        "            if x2 < w and y2 < h:\n",
        "              x3 = int((x2 / w) * 128)\n",
        "              y3 = int((y2 / h) * 128)\n",
        "              region_map[y3,x3] = 1\n",
        "          # for c in range(3):\n",
        "          #   rgb[c] = (rgb[c] + 25) % 255\n",
        "\n",
        "        # region_map = cv2.resize(region_map, (128, 128))\n",
        "        cv2.imwrite(data_dir + \"region_maps/\" + str(i) + \".jpg\", region_map)\n",
        "        dimy, dimx = np.array(region_map).shape\n",
        "        print(dimx, dimy)\n",
        "        numpts = 0\n",
        "        pts = []\n",
        "        for x in range(dimx):\n",
        "          for y in range(dimy):\n",
        "            if region_map[y,x] > 0:\n",
        "              pts.append((x,y))\n",
        "              numpts += 1\n",
        "        regfile.write(\"Image \" + str(i) + \" points: \" + str(pts))\n",
        "        if numpts != 68: \n",
        "          print(\"Image \", i, \" num points: \", numpts)\n",
        "\n",
        "\n",
        "    cv2_imshow(region_map)\n",
        "    cv2_imshow(im)\n",
        "    # cv2.waitKey(0)\n",
        "    \n",
        "regfile.close()\n",
        "\n"
      ],
      "execution_count": 0,
      "outputs": []
    },
    {
      "cell_type": "code",
      "metadata": {
        "id": "5dZpVc7ooZ2d",
        "colab_type": "code",
        "colab": {}
      },
      "source": [
        "class face:\n",
        "  def __init__(self, jaw, nose, right_eye, right_brow, left_eye, left_brow, mouth):\n",
        "    self.jaw = jaw\n",
        "    self.nose = nose\n",
        "    self.right_eye = right_eye\n",
        "    self.right_brow = right_brow\n",
        "    self.left_eye = left_eye\n",
        "    self.left_brow = left_brow\n",
        "    self.mouth = mouth"
      ],
      "execution_count": 0,
      "outputs": []
    },
    {
      "cell_type": "code",
      "metadata": {
        "id": "GnUGF2TBwUik",
        "colab_type": "code",
        "colab": {}
      },
      "source": [
        "for f in face_objs:\n",
        "  print(f.jaw)\n",
        "  print(f.nose)\n",
        "  print(f.right_brow)\n",
        "  print(f.left_eye)\n",
        "  print(f.left_brow)\n",
        "  print(f.mouth)"
      ],
      "execution_count": 0,
      "outputs": []
    },
    {
      "cell_type": "code",
      "metadata": {
        "id": "u9Np_80FVGTG",
        "colab_type": "code",
        "colab": {}
      },
      "source": [
        "im = np.zeros((500,500))\n",
        "\n",
        "for i in range(100):\n",
        "  for j in range(50):\n",
        "    im[i,j]= 255\n",
        "\n",
        "cv2_imshow(im)"
      ],
      "execution_count": 0,
      "outputs": []
    },
    {
      "cell_type": "code",
      "metadata": {
        "id": "W9hfX12cGj3Z",
        "colab_type": "code",
        "colab": {}
      },
      "source": [
        "'''\n",
        "f = open(data_dir + \"region points\", \"w+\")\n",
        "for i in range(79): \n",
        "    im_path = data_dir + \"region_maps/\" + str(i) + \".jpg\"\n",
        "    region_map = np.array(cv2.imread(im_path, cv2.IMREAD_GRAYSCALE))\n",
        "    dim = np.array(region_map).shape\n",
        "    print(dim)\n",
        "    numpts = 0\n",
        "    pts = []\n",
        "    # for x in range(dimx):\n",
        "    #   for y in range(dimy):\n",
        "    #     if region_map[y,x] > 0:\n",
        "    #       pts.append((x,y))\n",
        "    #       numpts += 1\n",
        "    # f.write(\"Image \", i, \" points: \", pts)\n",
        "    # if numpts != 68: \n",
        "    #   print(\"Image \", i, \" num points: \", numpts)\n",
        "\n",
        "f.close()\n",
        "'''"
      ],
      "execution_count": 0,
      "outputs": []
    }
  ]
}